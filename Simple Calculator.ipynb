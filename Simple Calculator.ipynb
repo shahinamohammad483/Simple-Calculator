{
 "cells": [
  {
   "cell_type": "code",
   "execution_count": 2,
   "id": "f42ba640-d171-483d-bfec-e77c8e5c5253",
   "metadata": {},
   "outputs": [
    {
     "name": "stdin",
     "output_type": "stream",
     "text": [
      "Enter first number:  2\n",
      "Enter second number:  5\n",
      "Choose operation (+, -, *, /):  +\n"
     ]
    },
    {
     "name": "stdout",
     "output_type": "stream",
     "text": [
      "7.0\n"
     ]
    }
   ],
   "source": [
    "def calculator():\n",
    "    a = float(input(\"Enter first number: \"))\n",
    "    b = float(input(\"Enter second number: \"))\n",
    "    op = input(\"Choose operation (+, -, *, /): \")\n",
    "\n",
    "    if op == '+':\n",
    "        print(a + b)\n",
    "    elif op == '-':\n",
    "        print(a - b)\n",
    "    elif op == '*':\n",
    "        print(a * b)\n",
    "    elif op == '/':\n",
    "        print(a / b if b != 0 else \"Cannot divide by 0\")\n",
    "    else:\n",
    "        print(\"Invalid operator\")\n",
    "\n",
    "calculator()\n"
   ]
  },
  {
   "cell_type": "code",
   "execution_count": null,
   "id": "7de059b0-74de-4eeb-9e47-1545821caa2f",
   "metadata": {},
   "outputs": [],
   "source": []
  }
 ],
 "metadata": {
  "kernelspec": {
   "display_name": "Python [conda env:base] *",
   "language": "python",
   "name": "conda-base-py"
  },
  "language_info": {
   "codemirror_mode": {
    "name": "ipython",
    "version": 3
   },
   "file_extension": ".py",
   "mimetype": "text/x-python",
   "name": "python",
   "nbconvert_exporter": "python",
   "pygments_lexer": "ipython3",
   "version": "3.13.5"
  }
 },
 "nbformat": 4,
 "nbformat_minor": 5
}
